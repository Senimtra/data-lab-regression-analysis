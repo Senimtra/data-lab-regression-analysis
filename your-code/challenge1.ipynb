{
 "cells": [
  {
   "cell_type": "markdown",
   "metadata": {},
   "source": [
    "# Lab: Regression Analysis"
   ]
  },
  {
   "cell_type": "markdown",
   "metadata": {},
   "source": [
    "### Before you start:\n",
    "\n",
    "* Read the README.md file\n",
    "* Comment as much as you can and use the resources (README.md file) \n",
    "\n",
    "Happy learning!"
   ]
  },
  {
   "cell_type": "code",
   "execution_count": null,
   "metadata": {},
   "outputs": [],
   "source": [
    "# Imports\n",
    "\n",
    "import pandas as pd\n",
    "import numpy as np\n",
    "import seaborn as sns\n",
    "import matplotlib.pyplot as plt\n",
    "\n",
    "from sklearn import linear_model\n",
    "from sklearn.metrics import mean_squared_error"
   ]
  },
  {
   "cell_type": "markdown",
   "metadata": {},
   "source": [
    "## Challenge 1\n",
    "I work at a coding bootcamp, and I have developed a theory that the younger my students are, the more often they are late to class. In order to test my hypothesis, I have collected some data in the following table:\n",
    "\n",
    "| StudentID | Age | Tardies |\n",
    "|--------|-----|------------|\n",
    "| 1      | 17  | 10         |\n",
    "| 2      | 51  | 1          |\n",
    "| 3      | 27  | 5          |\n",
    "| 4      | 21  | 9         |\n",
    "| 5      | 36  |  4         |\n",
    "| 6      | 48  |  2         |\n",
    "| 7      | 19  |  9         |\n",
    "| 8      | 26  | 6          |\n",
    "| 9      | 54  |  0         |\n",
    "| 10     | 30  |  3         |"
   ]
  },
  {
   "cell_type": "markdown",
   "metadata": {},
   "source": [
    "Use this command to create a dataframe with the data provided in the table. \n",
    "~~~~\n",
    "student_data = pd.DataFrame({'X': [x_values], 'Y': [y_values]})\n",
    "~~~~"
   ]
  },
  {
   "cell_type": "code",
   "execution_count": null,
   "metadata": {},
   "outputs": [],
   "source": [
    "# Creating the data frame\n",
    "student_data = pd.DataFrame({'Age': [17, 51, 27, 21, 36, 48, 19, 26, 54, 30],\n",
    "                             'Tardies': [10, 1, 5, 9, 4, 2, 9, 6, 0, 3]})\n",
    "student_data.index = np.arange(1, len(student_data) + 1)\n",
    "student_data.index.name = 'StudentID'\n",
    "\n",
    "student_data"
   ]
  },
  {
   "cell_type": "markdown",
   "metadata": {},
   "source": [
    "Draw a dispersion diagram (scatter plot) for the data."
   ]
  },
  {
   "cell_type": "code",
   "execution_count": null,
   "metadata": {},
   "outputs": [],
   "source": [
    "x = student_data['Age']\n",
    "y = student_data['Tardies']\n",
    "\n",
    "plt.scatter(x, y)\n",
    "plt.show()"
   ]
  },
  {
   "cell_type": "markdown",
   "metadata": {},
   "source": [
    "Do you see a trend? Can you make any hypotheses about the relationship between age and number of tardies?"
   ]
  },
  {
   "cell_type": "code",
   "execution_count": null,
   "metadata": {},
   "outputs": [],
   "source": [
    "# ANSWER:\n",
    "# I think the initial assumption will be confirmed. A trend is recognizable.\n",
    "# The younger the participants, the more likely they are to be late."
   ]
  },
  {
   "cell_type": "markdown",
   "metadata": {},
   "source": [
    "Calculate the covariance and correlation of the variables in your plot. What is the difference between these two measures? Compare their values. What do they tell you in this case? Add your responses as comments after your code."
   ]
  },
  {
   "cell_type": "code",
   "execution_count": null,
   "metadata": {},
   "outputs": [],
   "source": [
    "# Covariance between 'Age' and 'Tardies'\n",
    "print(f'Covariance: {np.cov(x, y)[0, 1]}')\n",
    "\n",
    "# Correlation between 'Age' and 'Tardies'\n",
    "print(f'Correlation: {np.corrcoef(x, y)[0, 1]}')\n",
    "\n",
    "# Covariance: there is an inverse relationship between the variables (the less in age, the more tardies)\n",
    "# Correlation: there is a very strong (negative) correlation between the variables (almost 1.0)"
   ]
  },
  {
   "cell_type": "markdown",
   "metadata": {},
   "source": [
    "Build a regression model for this data. What will be your outcome variable? What type of regression are you using? Add your responses as comments after your code."
   ]
  },
  {
   "cell_type": "code",
   "execution_count": null,
   "metadata": {},
   "outputs": [],
   "source": [
    "# Create linear regression model\n",
    "model = linear_model.LinearRegression()\n",
    "\n",
    "# Train model with 'Age' and 'Tardies'\n",
    "result = model.fit(pd.DataFrame(x), y)\n",
    "\n",
    "# Coefficient of Determination\n",
    "result.score(pd.DataFrame(x), y)\n",
    "\n",
    "# ANSWER:\n",
    "# The Coefficient of Determination measures how much better our predictions are than random picks.\n",
    "# Our score is ~0.88, so our model fits pretty good.\n",
    "# I chose the linear progression because the trend in the plot can be described very well by a line."
   ]
  },
  {
   "cell_type": "markdown",
   "metadata": {},
   "source": [
    "Plot your regression model on your scatter plot."
   ]
  },
  {
   "cell_type": "code",
   "execution_count": null,
   "metadata": {},
   "outputs": [],
   "source": [
    "# Regression model line\n",
    "lin_reg_line = result.intercept_ + result.coef_[0] * x\n",
    "\n",
    "# Regression model plot\n",
    "plt.plot(x, lin_reg_line, c = 'orange')\n",
    "plt.scatter(x, y)\n",
    "plt.show()"
   ]
  },
  {
   "cell_type": "markdown",
   "metadata": {},
   "source": [
    "Interpret the results of your model. What conclusions can you draw from your model and how confident in these conclusions are you? Can we say that age is a good predictor of tardiness? Add your responses as comments after your code."
   ]
  },
  {
   "cell_type": "code",
   "execution_count": null,
   "metadata": {},
   "outputs": [],
   "source": [
    "# Average error\n",
    "np.sqrt(mean_squared_error(result.predict(pd.DataFrame(x)), y))\n",
    "\n",
    "# ANSWER:\n",
    "# We have a Coefficient of Determination close to 1.0 (0.88) and an average error on our baseline data of 1.15 per point.\n",
    "# The result is beneficial for predicting who is more likely to be late and who isn't."
   ]
  },
  {
   "cell_type": "markdown",
   "metadata": {},
   "source": [
    "## Challenge 2\n",
    "For the second part of this lab, we will use the vehicles.csv data set. You can find a copy of the dataset in the git hub folder. This dataset includes variables related to vehicle characteristics, including the model, make, and energy efficiency standards, as well as each car's CO2 emissions. As discussed in class the goal of this exercise is to predict vehicles' CO2 emissions based on several independent variables. "
   ]
  },
  {
   "cell_type": "code",
   "execution_count": null,
   "metadata": {},
   "outputs": [],
   "source": [
    "vehicles = pd.read_csv('vehicles.csv')\n",
    "\n",
    "vehicles.head(3)"
   ]
  },
  {
   "cell_type": "markdown",
   "metadata": {},
   "source": [
    "Let's use the following variables for our analysis: Year, Cylinders, Fuel Barrels/Year, Combined MPG, and Fuel Cost/Year. We will use 'CO2 Emission Grams/Mile' as our outcome variable. \n",
    "\n",
    "Calculate the correlations between each of these variables and the outcome. Which variable do you think will be the most important in determining CO2 emissions? Which provides the least amount of helpful information for determining CO2 emissions? Add your responses as comments after your code."
   ]
  },
  {
   "cell_type": "code",
   "execution_count": null,
   "metadata": {},
   "outputs": [],
   "source": [
    "# CO2 emissions correlation matrix\n",
    "vehicles_co2_corr = vehicles[['Year', 'Cylinders', 'Fuel Barrels/Year', 'Combined MPG', 'Fuel Cost/Year', 'CO2 Emission Grams/Mile']].corr()\n",
    "\n",
    "# plot heatmap triangle\n",
    "sns.heatmap(vehicles_co2_corr.iloc[1:, :-1], mask = np.triu(vehicles_co2_corr)[1:, :-1], annot = True, cmap = 'Blues')\n",
    "\n",
    "plt.show()\n",
    "\n",
    "# ANSWER:\n",
    "\n",
    "# Correlations against CO2 Emissions:\n",
    "# 'Fuel Barrels/Year' (0.99) => the more barrels/year, the higher the emissions\n",
    "# 'Fuel Cost/Year' (0.93) => the higher the fuel costs per year, the higher the emissions\n",
    "# 'Combined MPG' (-0.93) => the lower miles per gallon, the higher the emissions\n",
    "# 'Cylinders (0.75) => the more cylinders, the higher the emissions\n",
    "# 'Year' (-0.22) => the lower the year (older the car), the higher the emissions\n",
    "\n",
    "# Remarks:\n",
    "# 'Fuel Barrels/Year' is our first choice, it's already correlated to 0.99, it doesn't get much better than that.\n",
    "# 'Combined MPG', 'Fuel Cost/Year' and 'Cylinders' are strongly correlated between each other,\n",
    "# so if we had to, omitting all of them wouldn't make the result much worse. But I will try it out.\n",
    "# 'Year' is not really correlated at all."
   ]
  },
  {
   "cell_type": "markdown",
   "metadata": {},
   "source": [
    "Build a regression model for this data. What type of regression are you using? Add your responses as comments after your code."
   ]
  },
  {
   "cell_type": "code",
   "execution_count": null,
   "metadata": {},
   "outputs": [],
   "source": [
    "# Linear regression model\n",
    "\n",
    "x = vehicles[['Fuel Barrels/Year']]\n",
    "y = vehicles['CO2 Emission Grams/Mile']\n",
    "\n",
    "model = linear_model.LinearRegression()\n",
    "result = model.fit(x, y)\n",
    "\n",
    "print(result.score(x, y), \"Linear Regression, ('Fuel Barrels/Year')\")\n",
    "\n",
    "# Multilinear regression model (chosen)\n",
    "\n",
    "X = vehicles[['Year', 'Cylinders', 'Fuel Barrels/Year', 'Combined MPG', 'Fuel Cost/Year']]\n",
    "y = vehicles['CO2 Emission Grams/Mile']\n",
    "\n",
    "model = linear_model.LinearRegression()\n",
    "result = model.fit(X, y)\n",
    "\n",
    "print(result.score(X, y), 'Multilinear Regression, (Year, Cylinders, Fuel Barrels/Year, Combined MPG, Fuel Cost/Year)')\n",
    "\n",
    "# ANSWER:\n",
    "# As expected, the value is not much worse if we only use 'Fuel Barrels/Year' as a feature.\n",
    "# I would still use all five features - that's justifiable (and very slightly better)"
   ]
  },
  {
   "cell_type": "markdown",
   "metadata": {},
   "source": [
    "Print your regression summary, and interpret the results. What are the most important variables in your model and why? What conclusions can you draw from your model and how confident in these conclusions are you? Add your responses as comments after your code."
   ]
  },
  {
   "cell_type": "code",
   "execution_count": null,
   "metadata": {},
   "outputs": [],
   "source": [
    "# My regression summary:\n",
    "\n",
    "# Mean squared error (MSE)\n",
    "print(mean_squared_error(result.predict(pd.DataFrame(X)), y), 'MSE')\n",
    "\n",
    "# Standard deviation of the prediction errors (RMSE)\n",
    "print(np.sqrt(mean_squared_error(result.predict(pd.DataFrame(X)), y)), 'RMSE')\n",
    "\n",
    "# Coefficient of Determination (R^2)\n",
    "print(result.score(X, y), 'R^2')\n",
    "\n",
    "# 'Fuel Barrels/Year' is by far the most crucial feature (independent variable).\n",
    "# It's correlated by 0.99, so the model would work with that alone.\n",
    "# The use of the other features can only marginally improve the result.\n",
    "# The model achieves a R^2 of 0.98, which is an excellent value so that we can be very confident about our predictions. "
   ]
  },
  {
   "cell_type": "markdown",
   "metadata": {},
   "source": [
    "## Challenge 2: Error Analysis"
   ]
  },
  {
   "cell_type": "markdown",
   "metadata": {},
   "source": [
    "I am suspicious about the last few parties I have thrown: it seems that the more people I invite the more people are unable to attend. To know if my hunch is supported by data, I have decided to do an analysis. I have collected my data in the table below, where X is the number of people I invited, and Y is the number of people who attended. \n",
    "\n",
    "|  X |  Y |\n",
    "|----|----|\n",
    "| 1  |  1 |\n",
    "| 3  |  2 |\n",
    "| 4  |  4 |\n",
    "| 6  |  4 |\n",
    "| 8  |  5 |\n",
    "| 9  |  7 |\n",
    "| 11 |  8 |\n",
    "| 14 |  13 |"
   ]
  },
  {
   "cell_type": "markdown",
   "metadata": {},
   "source": [
    "We want to know if the relationship modeled by the two random variables is linear or not, and therefore if it is appropriate to model it with a linear regression. \n",
    "First, build a dataframe with the data. "
   ]
  },
  {
   "cell_type": "code",
   "execution_count": null,
   "metadata": {},
   "outputs": [],
   "source": [
    "party_check = pd.DataFrame({'invited': [1, 3, 4, 6, 8, 9, 11, 14], 'attended': [1, 2, 4, 4, 5, 7, 8, 13]})\n",
    "\n",
    "party_check"
   ]
  },
  {
   "cell_type": "markdown",
   "metadata": {},
   "source": [
    "Draw a dispersion diagram (scatter plot) for the data, and fit a regression line."
   ]
  },
  {
   "cell_type": "code",
   "execution_count": null,
   "metadata": {},
   "outputs": [],
   "source": [
    "# Dispersion diagram\n",
    "\n",
    "x = party_check['invited']\n",
    "y = party_check['attended']\n",
    "\n",
    "plt.scatter(x, y)\n",
    "\n",
    "# Regression line\n",
    "\n",
    "model = linear_model.LinearRegression()\n",
    "result = model.fit(pd.DataFrame(x), y)\n",
    "reg_line = result.intercept_ + result.coef_[0] * x\n",
    "\n",
    "plt.plot(x, reg_line, c = 'red')\n",
    "plt.show()"
   ]
  },
  {
   "cell_type": "markdown",
   "metadata": {},
   "source": [
    "What do you see? What does this plot tell you about the likely relationship between the variables? Print the results from your regression."
   ]
  },
  {
   "cell_type": "code",
   "execution_count": null,
   "metadata": {},
   "outputs": [],
   "source": [
    "# Correlation Coefficient\n",
    "print(np.corrcoef(x, y)[0, 1], 'PCE (Pearson)')\n",
    "\n",
    "# Mean squared error (MSE)\n",
    "print(mean_squared_error(result.predict(pd.DataFrame(x)), y), 'MSE')\n",
    "\n",
    "# Standard deviation of the prediction errors (RMSE)\n",
    "print(np.sqrt(mean_squared_error(result.predict(pd.DataFrame(x)), y)), 'RMSE')\n",
    "\n",
    "# Coefficient of Determination (R^2)\n",
    "print(result.score(pd.DataFrame(x), y), 'R^2')\n",
    "\n",
    "# ANSWER: 'invited' people and 'attendants' are strongly correlated (0.96 corr. coefficient)."
   ]
  },
  {
   "cell_type": "code",
   "execution_count": null,
   "metadata": {},
   "outputs": [],
   "source": [
    "# I'm just wondering why we do not compare the 'invitations' with the 'NON-attendants' but the 'attendants'.\n",
    "# Because that was the original question: We didn't want to know if more people would come if we invited more, but if more would not come.\n",
    "\n",
    "# Maybe I'm on the wrong track here, I just wanted to check:\n",
    "\n",
    "x_2 = party_check['invited']\n",
    "y_2 = party_check['invited'] - party_check['attended']\n",
    "\n",
    "plt.scatter(x_2, y_2)\n",
    "\n",
    "model_2 = linear_model.LinearRegression()\n",
    "result_2 = model_2.fit(pd.DataFrame(x_2), y_2)\n",
    "reg_line_2 = result_2.intercept_ + result_2.coef_[0] * x\n",
    "\n",
    "plt.plot(x_2, reg_line_2, c = 'orange')\n",
    "plt.show()\n",
    "\n",
    "result_2.score(pd.DataFrame(x_2), y_2)\n",
    "\n",
    "# ANSWER:\n",
    "# 'invited' - 'unable to come' - R^2 = 0.30\n",
    "# I think 0.30 is not much, but still a thing here, so yes:\n",
    "# the more people we invite, the more people won't come (unsurprisingly)"
   ]
  },
  {
   "cell_type": "markdown",
   "metadata": {},
   "source": [
    "Do you see any problematic points, or outliers, in your data? Remove these points and recalculate your regression. Print the new dispersion diagram with your new model and the results of your model. "
   ]
  },
  {
   "cell_type": "code",
   "execution_count": null,
   "metadata": {},
   "outputs": [],
   "source": [
    "# Back to the challenge (red line)\n",
    "\n",
    "plt.scatter(x, y)\n",
    "plt.plot(x, reg_line, c = 'red')\n",
    "plt.show()\n",
    "\n",
    "# ANSWER:\n",
    "# x(8) and x(14) would most likely be outliers, although not by much\n",
    "\n",
    "# Regression summary BEFORE\n",
    "print('Regression summary (BEFORE)')\n",
    "print(np.corrcoef(x, y)[0, 1], 'PCE (Pearson)')\n",
    "print(mean_squared_error(result.predict(pd.DataFrame(x)), y), 'MSE')\n",
    "print(np.sqrt(mean_squared_error(result.predict(pd.DataFrame(x)), y)), 'RMSE')\n",
    "print(result.score(pd.DataFrame(x), y), 'R^2')\n",
    "\n",
    "# Drop outliers\n",
    "party_wo_outliers = party_check.drop([4, 7])\n",
    "\n",
    "# Recalculate regression\n",
    "x = party_wo_outliers['invited']\n",
    "y = party_wo_outliers['attended']\n",
    "\n",
    "model = linear_model.LinearRegression()\n",
    "result = model.fit(pd.DataFrame(x), y)\n",
    "reg_line = result.intercept_ + result.coef_[0] * x\n",
    "\n",
    "# Re-plot dispersion and regression\n",
    "plt.scatter(pd.DataFrame(x), y)\n",
    "plt.plot(x, reg_line, c = 'red')\n",
    "plt.show()\n",
    "\n",
    "# Regression summary AFTER\n",
    "print('Regression summary (AFTER)')\n",
    "print(np.corrcoef(x, y)[0, 1], 'PCE (Pearson)')\n",
    "print(mean_squared_error(result.predict(pd.DataFrame(x)), y), 'MSE')\n",
    "print(np.sqrt(mean_squared_error(result.predict(pd.DataFrame(x)), y)), 'RMSE')\n",
    "print(result.score(pd.DataFrame(x), y), 'R^2')"
   ]
  },
  {
   "cell_type": "markdown",
   "metadata": {},
   "source": [
    "What changed? Based on the results of the two models and your graphs, what can you say about the form of the data with the problematic point and without it?"
   ]
  },
  {
   "cell_type": "code",
   "execution_count": null,
   "metadata": {},
   "outputs": [],
   "source": [
    "# We eliminated the outliers.\n",
    "# Looking at the new chart, one might think there's a new outlier.\n",
    "# But it is much closer to our predictions than the two previous outliers.\n",
    "# This can be seen from the reduced values 'RMSE' and, above all, 'MSE' (because it is squared).\n",
    "# The quality of the predictions as such has only improved very slightly (PCE, R^2), because they were already very good before."
   ]
  }
 ],
 "metadata": {
  "kernelspec": {
   "display_name": "Python 3.9.12 ('base')",
   "language": "python",
   "name": "python3"
  },
  "language_info": {
   "codemirror_mode": {
    "name": "ipython",
    "version": 3
   },
   "file_extension": ".py",
   "mimetype": "text/x-python",
   "name": "python",
   "nbconvert_exporter": "python",
   "pygments_lexer": "ipython3",
   "version": "3.9.12"
  },
  "vscode": {
   "interpreter": {
    "hash": "3a677cc3a62f2d81855f233fae469a5f43f070d97a640d213221ee6c91be41b5"
   }
  }
 },
 "nbformat": 4,
 "nbformat_minor": 2
}
